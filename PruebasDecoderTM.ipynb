{
 "cells": [
  {
   "cell_type": "code",
   "execution_count": 170,
   "id": "6cc6a466-8c92-4044-b330-f01a4c6997a8",
   "metadata": {},
   "outputs": [],
   "source": [
    "import numpy as np\n",
    "import pandas as pd\n",
    "import os\n",
    "\n",
    "def decimal2binary(dec_number):\n",
    "    input_binary = bin(dec_number).replace(\"0b\", \"\")\n",
    "    #TM_binary = str('110') + input_binary + str('110')\n",
    "    return input_binary\n",
    "def expansion(n):\n",
    "\tn=decimal2binary(n)\n",
    "\tn=[int(x) for x in (n)]\n",
    "\tn2=[]\n",
    "\tn2.append(0)\n",
    "\twhile len(n)!=0:\n",
    "\t\tif n[0]==0 & (len(n) >= 1):\n",
    "\t\t\tn2.append(0)\n",
    "\t\t\tdel n[0]\n",
    "\t\telif (n[0]==1) & (len(n) >= 1):\n",
    "\t\t\tn2.append(1)\n",
    "\t\t\tn2.append(0)\n",
    "\t\t\tdel n[0]\n",
    "\t\t#print(n)\n",
    "\tn2.append(1)\n",
    "\tn2.append(1)\n",
    "\tn2.append(0)\n",
    "\treturn n2"
   ]
  },
  {
   "cell_type": "code",
   "execution_count": 171,
   "id": "6d09033d-6fa4-49f5-871d-73558402b523",
   "metadata": {},
   "outputs": [
    {
     "data": {
      "text/html": [
       "<div>\n",
       "<style scoped>\n",
       "    .dataframe tbody tr th:only-of-type {\n",
       "        vertical-align: middle;\n",
       "    }\n",
       "\n",
       "    .dataframe tbody tr th {\n",
       "        vertical-align: top;\n",
       "    }\n",
       "\n",
       "    .dataframe thead th {\n",
       "        text-align: right;\n",
       "    }\n",
       "</style>\n",
       "<table border=\"1\" class=\"dataframe\">\n",
       "  <thead>\n",
       "    <tr style=\"text-align: right;\">\n",
       "      <th></th>\n",
       "      <th>Si</th>\n",
       "      <th>Si+1</th>\n",
       "      <th>Read</th>\n",
       "      <th>Write</th>\n",
       "      <th>Move</th>\n",
       "    </tr>\n",
       "  </thead>\n",
       "  <tbody>\n",
       "    <tr>\n",
       "      <th>0</th>\n",
       "      <td>0</td>\n",
       "      <td>0.0</td>\n",
       "      <td>0</td>\n",
       "      <td>0</td>\n",
       "      <td>R</td>\n",
       "    </tr>\n",
       "    <tr>\n",
       "      <th>1</th>\n",
       "      <td>0</td>\n",
       "      <td>10000000.0</td>\n",
       "      <td>1</td>\n",
       "      <td>1</td>\n",
       "      <td>L</td>\n",
       "    </tr>\n",
       "    <tr>\n",
       "      <th>2</th>\n",
       "      <td>1</td>\n",
       "      <td>1.0</td>\n",
       "      <td>0</td>\n",
       "      <td>0</td>\n",
       "      <td>R</td>\n",
       "    </tr>\n",
       "    <tr>\n",
       "      <th>3</th>\n",
       "      <td>1</td>\n",
       "      <td>1001011.0</td>\n",
       "      <td>1</td>\n",
       "      <td>1</td>\n",
       "      <td>R</td>\n",
       "    </tr>\n",
       "    <tr>\n",
       "      <th>4</th>\n",
       "      <td>10</td>\n",
       "      <td>10.0</td>\n",
       "      <td>0</td>\n",
       "      <td>0</td>\n",
       "      <td>R</td>\n",
       "    </tr>\n",
       "    <tr>\n",
       "      <th>...</th>\n",
       "      <td>...</td>\n",
       "      <td>...</td>\n",
       "      <td>...</td>\n",
       "      <td>...</td>\n",
       "      <td>...</td>\n",
       "    </tr>\n",
       "    <tr>\n",
       "      <th>397</th>\n",
       "      <td>11000110</td>\n",
       "      <td>1100111.0</td>\n",
       "      <td>1</td>\n",
       "      <td>1</td>\n",
       "      <td>L</td>\n",
       "    </tr>\n",
       "    <tr>\n",
       "      <th>398</th>\n",
       "      <td>11000111</td>\n",
       "      <td>NaN</td>\n",
       "      <td>0</td>\n",
       "      <td>0</td>\n",
       "      <td>R</td>\n",
       "    </tr>\n",
       "    <tr>\n",
       "      <th>399</th>\n",
       "      <td>11000111</td>\n",
       "      <td>11001.0</td>\n",
       "      <td>1</td>\n",
       "      <td>1</td>\n",
       "      <td>R</td>\n",
       "    </tr>\n",
       "    <tr>\n",
       "      <th>400</th>\n",
       "      <td>11001000</td>\n",
       "      <td>100.0</td>\n",
       "      <td>0</td>\n",
       "      <td>0</td>\n",
       "      <td>R</td>\n",
       "    </tr>\n",
       "    <tr>\n",
       "      <th>401</th>\n",
       "      <td>11001000</td>\n",
       "      <td>1100101.0</td>\n",
       "      <td>1</td>\n",
       "      <td>1</td>\n",
       "      <td>R</td>\n",
       "    </tr>\n",
       "  </tbody>\n",
       "</table>\n",
       "<p>402 rows × 5 columns</p>\n",
       "</div>"
      ],
      "text/plain": [
       "           Si        Si+1  Read  Write Move\n",
       "0           0         0.0     0      0    R\n",
       "1           0  10000000.0     1      1    L\n",
       "2           1         1.0     0      0    R\n",
       "3           1   1001011.0     1      1    R\n",
       "4          10        10.0     0      0    R\n",
       "..        ...         ...   ...    ...  ...\n",
       "397  11000110   1100111.0     1      1    L\n",
       "398  11000111         NaN     0      0    R\n",
       "399  11000111     11001.0     1      1    R\n",
       "400  11001000       100.0     0      0    R\n",
       "401  11001000   1100101.0     1      1    R\n",
       "\n",
       "[402 rows x 5 columns]"
      ]
     },
     "execution_count": 171,
     "metadata": {},
     "output_type": "execute_result"
    }
   ],
   "source": [
    "a=pd.read_csv(\"procesado.csv\", header=None)\n",
    "a.columns=([\"Si\",\"Si+1\",\"Read\",\"Write\",\"Move\"])\n",
    "a"
   ]
  },
  {
   "cell_type": "code",
   "execution_count": 151,
   "id": "63bab2d2-6cf1-4725-a0c7-a0f0c8052586",
   "metadata": {},
   "outputs": [
    {
     "data": {
      "text/plain": [
       "0    False\n",
       "1     True\n",
       "Name: Move, dtype: bool"
      ]
     },
     "execution_count": 151,
     "metadata": {},
     "output_type": "execute_result"
    }
   ],
   "source": [
    "a.iloc[:][\"Move\"]==\"H\" #Verificación de que la MT ha parado"
   ]
  },
  {
   "cell_type": "code",
   "execution_count": 152,
   "id": "9bc216f2-bb8f-45e6-92aa-5ce279f95c28",
   "metadata": {},
   "outputs": [
    {
     "data": {
      "text/plain": [
       "RangeIndex(start=0, stop=2, step=1)"
      ]
     },
     "execution_count": 152,
     "metadata": {},
     "output_type": "execute_result"
    }
   ],
   "source": [
    "a[\"Move\"].where(a[\"Move\"]==\"H\").index"
   ]
  },
  {
   "cell_type": "code",
   "execution_count": 98,
   "id": "b3f9d26e-b0a0-4d47-add2-81d1c0976098",
   "metadata": {},
   "outputs": [
    {
     "name": "stderr",
     "output_type": "stream",
     "text": [
      "C:\\Users\\emman\\AppData\\Local\\Temp\\ipykernel_26372\\3331589139.py:2: FutureWarning: Index.__and__ operating as a set operation is deprecated, in the future this will be a logical operation matching Series.__and__.  Use index.intersection(other) instead.\n",
      "  idx = (a.index[a['Read']==1] & a.index[a[\"Move\"]==\"H\"])\n"
     ]
    },
    {
     "data": {
      "text/plain": [
       "'H'"
      ]
     },
     "execution_count": 98,
     "metadata": {},
     "output_type": "execute_result"
    }
   ],
   "source": [
    "#este código que está por aquí \n",
    "idx = (a.index[a['Read']==1] & a.index[a[\"Move\"]==\"H\"])\n",
    "a.loc[idx][\"Move\"][1]"
   ]
  },
  {
   "cell_type": "code",
   "execution_count": 153,
   "id": "b932120f-2612-4933-96d4-b1c1277c0256",
   "metadata": {},
   "outputs": [
    {
     "name": "stderr",
     "output_type": "stream",
     "text": [
      "C:\\Users\\emman\\AppData\\Local\\Temp\\ipykernel_26372\\521132656.py:1: FutureWarning: Index.__and__ operating as a set operation is deprecated, in the future this will be a logical operation matching Series.__and__.  Use index.intersection(other) instead.\n",
      "  idx=(a.index[a['Read']==0] & a.index[a[\"Si\"]==0])\n"
     ]
    },
    {
     "data": {
      "text/plain": [
       "Int64Index([0], dtype='int64')"
      ]
     },
     "execution_count": 153,
     "metadata": {},
     "output_type": "execute_result"
    }
   ],
   "source": [
    "idx=(a.index[a['Read']==0] & a.index[a[\"Si\"]==0])\n",
    "idx"
   ]
  },
  {
   "cell_type": "code",
   "execution_count": 154,
   "id": "6e324396-db7e-4987-a0a3-46b8341417f4",
   "metadata": {},
   "outputs": [
    {
     "data": {
      "text/plain": [
       "0"
      ]
     },
     "execution_count": 154,
     "metadata": {},
     "output_type": "execute_result"
    }
   ],
   "source": [
    "estado=a.loc[idx][\"Si+1\"].item()\n",
    "estado"
   ]
  },
  {
   "cell_type": "code",
   "execution_count": 193,
   "id": "dede8223-d1bc-4b3d-930d-0d7efbb73ef0",
   "metadata": {},
   "outputs": [],
   "source": [
    "def decode(instrucciones, n):\n",
    "    cinta=expansion(n)\n",
    "    estado=0\n",
    "    posicion=0\n",
    "    grafo={}\n",
    "    while estado!=\"H\":\n",
    "        if (cinta[posicion]==0):\n",
    "            idx=(instrucciones.index[instrucciones['Read']==0] & instrucciones.index[instrucciones[\"Si\"]==estado])\n",
    "            #print(idx)\n",
    "            estado=instrucciones.loc[idx][\"Si+1\"].item()\n",
    "            #print(estado)\n",
    "            cinta[posicion]=instrucciones.loc[idx][\"Write\"].item()\n",
    "            if instrucciones.loc[idx][\"Move\"].item()==\"H\":\n",
    "                posicion=posicion\n",
    "                break\n",
    "            elif instrucciones.loc[idx][\"Move\"].item()==\"R\":\n",
    "                posicion=posicion+1\n",
    "            elif instrucciones.loc[idx][\"Move\"].item()==\"L\":\n",
    "                posicion=posicion-1  \n",
    "        elif (cinta[posicion]==1):\n",
    "            idx=(instrucciones.index[instrucciones['Read']==1] & instrucciones.index[instrucciones[\"Si\"]==estado])\n",
    "            #print(idx)\n",
    "            estado=instrucciones.loc[idx][\"Si+1\"].item()\n",
    "            #print(\"muy buenas noches\")\n",
    "            cinta[posicion]=instrucciones.loc[idx][\"Write\"].item()\n",
    "            if instrucciones.loc[idx][\"Move\"].item()==\"H\":\n",
    "                posicion=posicion\n",
    "                #print(cinta)\n",
    "                break\n",
    "            elif instrucciones.loc[idx][\"Move\"].item()==\"R\":\n",
    "                posicion=posicion+1\n",
    "            elif instrucciones.loc[idx][\"Move\"].item()==\"L\":\n",
    "                posicion=posicion-1\n",
    "                #print(cinta)\n",
    "        print(posicion)\n",
    "    return cinta"
   ]
  },
  {
   "cell_type": "code",
   "execution_count": 198,
   "id": "76c2411c-1e2b-4bbb-bdce-fa2de04e092b",
   "metadata": {},
   "outputs": [
    {
     "name": "stderr",
     "output_type": "stream",
     "text": [
      "C:\\Users\\emman\\AppData\\Local\\Temp\\ipykernel_26372\\664024537.py:8: FutureWarning: Index.__and__ operating as a set operation is deprecated, in the future this will be a logical operation matching Series.__and__.  Use index.intersection(other) instead.\n",
      "  idx=(instrucciones.index[instrucciones['Read']==0] & instrucciones.index[instrucciones[\"Si\"]==estado])\n",
      "C:\\Users\\emman\\AppData\\Local\\Temp\\ipykernel_26372\\664024537.py:21: FutureWarning: Index.__and__ operating as a set operation is deprecated, in the future this will be a logical operation matching Series.__and__.  Use index.intersection(other) instead.\n",
      "  idx=(instrucciones.index[instrucciones['Read']==1] & instrucciones.index[instrucciones[\"Si\"]==estado])\n"
     ]
    },
    {
     "name": "stdout",
     "output_type": "stream",
     "text": [
      "1\n",
      "0\n",
      "-1\n",
      "-2\n",
      "-1\n",
      "0\n",
      "1\n",
      "2\n",
      "1\n",
      "0\n",
      "-1\n",
      "-2\n",
      "-3\n",
      "-4\n",
      "-5\n",
      "-6\n",
      "-7\n",
      "-8\n",
      "-9\n",
      "-10\n",
      "-11\n",
      "-12\n",
      "-13\n",
      "-14\n",
      "-15\n",
      "-16\n",
      "-17\n",
      "-18\n",
      "-19\n",
      "-20\n",
      "-21\n",
      "-22\n",
      "-23\n",
      "-24\n",
      "-25\n"
     ]
    },
    {
     "ename": "IndexError",
     "evalue": "list index out of range",
     "output_type": "error",
     "traceback": [
      "\u001b[1;31m---------------------------------------------------------------------------\u001b[0m",
      "\u001b[1;31mIndexError\u001b[0m                                Traceback (most recent call last)",
      "Input \u001b[1;32mIn [198]\u001b[0m, in \u001b[0;36m<cell line: 1>\u001b[1;34m()\u001b[0m\n\u001b[1;32m----> 1\u001b[0m \u001b[43mdecode\u001b[49m\u001b[43m(\u001b[49m\u001b[43ma\u001b[49m\u001b[43m,\u001b[49m\u001b[43m \u001b[49m\u001b[38;5;241;43m21312\u001b[39;49m\u001b[43m)\u001b[49m\n",
      "Input \u001b[1;32mIn [193]\u001b[0m, in \u001b[0;36mdecode\u001b[1;34m(instrucciones, n)\u001b[0m\n\u001b[0;32m      5\u001b[0m grafo\u001b[38;5;241m=\u001b[39m{}\n\u001b[0;32m      6\u001b[0m \u001b[38;5;28;01mwhile\u001b[39;00m estado\u001b[38;5;241m!=\u001b[39m\u001b[38;5;124m\"\u001b[39m\u001b[38;5;124mH\u001b[39m\u001b[38;5;124m\"\u001b[39m:\n\u001b[1;32m----> 7\u001b[0m     \u001b[38;5;28;01mif\u001b[39;00m (\u001b[43mcinta\u001b[49m\u001b[43m[\u001b[49m\u001b[43mposicion\u001b[49m\u001b[43m]\u001b[49m\u001b[38;5;241m==\u001b[39m\u001b[38;5;241m0\u001b[39m):\n\u001b[0;32m      8\u001b[0m         idx\u001b[38;5;241m=\u001b[39m(instrucciones\u001b[38;5;241m.\u001b[39mindex[instrucciones[\u001b[38;5;124m'\u001b[39m\u001b[38;5;124mRead\u001b[39m\u001b[38;5;124m'\u001b[39m]\u001b[38;5;241m==\u001b[39m\u001b[38;5;241m0\u001b[39m] \u001b[38;5;241m&\u001b[39m instrucciones\u001b[38;5;241m.\u001b[39mindex[instrucciones[\u001b[38;5;124m\"\u001b[39m\u001b[38;5;124mSi\u001b[39m\u001b[38;5;124m\"\u001b[39m]\u001b[38;5;241m==\u001b[39mestado])\n\u001b[0;32m      9\u001b[0m         \u001b[38;5;66;03m#print(idx)\u001b[39;00m\n",
      "\u001b[1;31mIndexError\u001b[0m: list index out of range"
     ]
    }
   ],
   "source": [
    "decode(a, 21312)"
   ]
  },
  {
   "cell_type": "code",
   "execution_count": 175,
   "id": "0da741f6-01d6-4320-884a-765b372cdcdd",
   "metadata": {},
   "outputs": [
    {
     "data": {
      "text/plain": [
       "[0, 1, 0, 1, 1, 0]"
      ]
     },
     "execution_count": 175,
     "metadata": {},
     "output_type": "execute_result"
    }
   ],
   "source": [
    "expansion(1)"
   ]
  },
  {
   "cell_type": "code",
   "execution_count": 166,
   "id": "09f7f77d-bc6f-4db6-bd5f-bcff8db73c38",
   "metadata": {},
   "outputs": [
    {
     "data": {
      "text/html": [
       "<div>\n",
       "<style scoped>\n",
       "    .dataframe tbody tr th:only-of-type {\n",
       "        vertical-align: middle;\n",
       "    }\n",
       "\n",
       "    .dataframe tbody tr th {\n",
       "        vertical-align: top;\n",
       "    }\n",
       "\n",
       "    .dataframe thead th {\n",
       "        text-align: right;\n",
       "    }\n",
       "</style>\n",
       "<table border=\"1\" class=\"dataframe\">\n",
       "  <thead>\n",
       "    <tr style=\"text-align: right;\">\n",
       "      <th></th>\n",
       "      <th>Si</th>\n",
       "      <th>Si+1</th>\n",
       "      <th>Read</th>\n",
       "      <th>Write</th>\n",
       "      <th>Move</th>\n",
       "    </tr>\n",
       "  </thead>\n",
       "  <tbody>\n",
       "    <tr>\n",
       "      <th>0</th>\n",
       "      <td>0</td>\n",
       "      <td>0</td>\n",
       "      <td>0</td>\n",
       "      <td>0</td>\n",
       "      <td>R</td>\n",
       "    </tr>\n",
       "    <tr>\n",
       "      <th>1</th>\n",
       "      <td>0</td>\n",
       "      <td>1</td>\n",
       "      <td>1</td>\n",
       "      <td>1</td>\n",
       "      <td>H</td>\n",
       "    </tr>\n",
       "  </tbody>\n",
       "</table>\n",
       "</div>"
      ],
      "text/plain": [
       "   Si  Si+1  Read  Write Move\n",
       "0   0     0     0      0    R\n",
       "1   0     1     1      1    H"
      ]
     },
     "execution_count": 166,
     "metadata": {},
     "output_type": "execute_result"
    }
   ],
   "source": [
    "a"
   ]
  },
  {
   "cell_type": "code",
   "execution_count": null,
   "id": "9454d8f4-e577-4dba-b69f-c5b153a05811",
   "metadata": {},
   "outputs": [],
   "source": []
  }
 ],
 "metadata": {
  "kernelspec": {
   "display_name": "Python 3 (ipykernel)",
   "language": "python",
   "name": "python3"
  },
  "language_info": {
   "codemirror_mode": {
    "name": "ipython",
    "version": 3
   },
   "file_extension": ".py",
   "mimetype": "text/x-python",
   "name": "python",
   "nbconvert_exporter": "python",
   "pygments_lexer": "ipython3",
   "version": "3.9.13"
  }
 },
 "nbformat": 4,
 "nbformat_minor": 5
}
